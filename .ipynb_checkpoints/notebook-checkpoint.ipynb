{
 "cells": [
  {
   "cell_type": "markdown",
   "id": "937acf3c-c077-4ca6-8d90-8f6dd4d13c54",
   "metadata": {},
   "source": [
    "<center><img src=\"redpopcorn.jpg\"></center>"
   ]
  },
  {
   "cell_type": "markdown",
   "id": "5962b2cd-17bb-4ec9-b2d5-68537ca26860",
   "metadata": {},
   "source": [
    "**Netflix**! What started in 1997 as a DVD rental service has since exploded into one of the largest entertainment and media companies.\n",
    "\n",
    "Given the large number of movies and series available on the platform, it is a perfect opportunity to flex your exploratory data analysis skills and dive into the entertainment industry.\n",
    "\n",
    "You work for a production company that specializes in nostalgic styles. You want to do some research on movies released in the 1990's. You'll delve into Netflix data and perform exploratory data analysis to better understand this awesome movie decade!\n",
    "\n",
    "You have been supplied with the dataset `netflix_data.csv`, along with the following table detailing the column names and descriptions. Feel free to experiment further after submitting!\n",
    "\n",
    "## The data\n",
    "### **netflix_data.csv**\n",
    "| Column | Description |\n",
    "|--------|-------------|\n",
    "| `show_id` | The ID of the show |\n",
    "| `type` | Type of show |\n",
    "| `title` | Title of the show |\n",
    "| `director` | Director of the show |\n",
    "| `cast` | Cast of the show |\n",
    "| `country` | Country of origin |\n",
    "| `date_added` | Date added to Netflix |\n",
    "| `release_year` | Year of Netflix release |\n",
    "| `duration` | Duration of the show in minutes |\n",
    "| `description` | Description of the show |\n",
    "| `genre` | Show genre |"
   ]
  },
  {
   "cell_type": "markdown",
   "id": "d6034976",
   "metadata": {},
   "source": [
    "Perform exploratory data analysis on the netflix_data.csv data to understand more about movies from the 1990s decade.\n",
    "\n",
    "    What was the most frequent movie duration in the 1990s? Save an approximate answer as an integer called duration.\n",
    "\n",
    "    A movie is considered short if it is less than 90 minutes. Count the number of short action movies released in the 1990s and save this integer as short_movie_count."
   ]
  },
  {
   "cell_type": "code",
   "execution_count": 2,
   "id": "320a3abc-8a36-4b2b-baaf-473325363a4d",
   "metadata": {
    "executionCancelledAt": null,
    "executionTime": 42,
    "lastExecutedAt": 1723036097499,
    "lastExecutedByKernel": "5eb04077-1061-4ef2-bf88-b66614e055af",
    "lastScheduledRunId": null,
    "lastSuccessfullyExecutedCode": "# Importing pandas and matplotlib\nimport pandas as pd\nimport matplotlib.pyplot as plt\n\n# Read in the Netflix CSV as a DataFrame\nnetflix_df = pd.read_csv(\"netflix_data.csv\")"
   },
   "outputs": [],
   "source": [
    "# Importing pandas and matplotlib\n",
    "import pandas as pd\n",
    "import matplotlib.pyplot as plt\n",
    "\n",
    "# Read in the Netflix CSV as a DataFrame\n",
    "netflix_df = pd.read_csv(\"netflix_data.csv\")"
   ]
  },
  {
   "cell_type": "code",
   "execution_count": 50,
   "id": "72658473-114f-49eb-bd4e-cc03c710834a",
   "metadata": {
    "executionCancelledAt": null,
    "executionTime": 13,
    "lastExecutedAt": 1723036410981,
    "lastExecutedByKernel": "5eb04077-1061-4ef2-bf88-b66614e055af",
    "lastScheduledRunId": null,
    "lastSuccessfullyExecutedCode": "# Start coding here! Use as many cells as you like\nnetflix_df.columns",
    "outputsMetadata": {
     "0": {
      "height": 185,
      "type": "stream"
     }
    }
   },
   "outputs": [],
   "source": [
    "# Start coding here! Use as many cells as you like\n",
    "# Filter all movies in the 1990s\n",
    "movies_1990s = netflix_df[netflix_df['release_year'].between(1990, 1999)]\n",
    "\n",
    "# Calculate the most frequent movie duration in the 1990s\n",
    "duration = movies_1990s['duration'].mode()[0]\n",
    "\n",
    "# Filter all short action movies in the 1990s\n",
    "short_action_movies_1990s = movies_1990s[(movies_1990s['type'] == 'Movie') & \n",
    "                                         (movies_1990s['duration'] < 90) & \n",
    "                                         (movies_1990s['genre'] == 'Action')]\n",
    "\n",
    "# Count the number of short action movies released in the 1990s\n",
    "short_movie_count = short_action_movies_1990s.shape[0]\n",
    "\n",
    "# Display the results\n",
    "print(f\"Most frequent movie duration in the 1990s: {duration} minutes\")\n",
    "print(f\"Number of short action movies released in the 1990s: {short_movie_count}\")"
   ]
  },
  {
   "cell_type": "code",
   "execution_count": 48,
   "id": "c5b87ed4",
   "metadata": {},
   "outputs": [
    {
     "data": {
      "text/plain": [
       "7"
      ]
     },
     "execution_count": 48,
     "metadata": {},
     "output_type": "execute_result"
    }
   ],
   "source": [
    "count_short_movies"
   ]
  },
  {
   "cell_type": "code",
   "execution_count": 45,
   "id": "0890b699",
   "metadata": {},
   "outputs": [
    {
     "data": {
      "text/html": [
       "<div>\n",
       "<style scoped>\n",
       "    .dataframe tbody tr th:only-of-type {\n",
       "        vertical-align: middle;\n",
       "    }\n",
       "\n",
       "    .dataframe tbody tr th {\n",
       "        vertical-align: top;\n",
       "    }\n",
       "\n",
       "    .dataframe thead th {\n",
       "        text-align: right;\n",
       "    }\n",
       "</style>\n",
       "<table border=\"1\" class=\"dataframe\">\n",
       "  <thead>\n",
       "    <tr style=\"text-align: right;\">\n",
       "      <th></th>\n",
       "      <th>show_id</th>\n",
       "      <th>type</th>\n",
       "      <th>title</th>\n",
       "      <th>director</th>\n",
       "      <th>cast</th>\n",
       "      <th>country</th>\n",
       "      <th>date_added</th>\n",
       "      <th>release_year</th>\n",
       "      <th>duration</th>\n",
       "      <th>description</th>\n",
       "      <th>genre</th>\n",
       "    </tr>\n",
       "  </thead>\n",
       "  <tbody>\n",
       "    <tr>\n",
       "      <th>1288</th>\n",
       "      <td>s2039</td>\n",
       "      <td>Movie</td>\n",
       "      <td>EVANGELION: DEATH (TRUE)²</td>\n",
       "      <td>Hideaki Anno</td>\n",
       "      <td>Megumi Ogata, Kotono Mitsuishi, Megumi Hayashi...</td>\n",
       "      <td>Japan</td>\n",
       "      <td>June 21, 2019</td>\n",
       "      <td>1998</td>\n",
       "      <td>69</td>\n",
       "      <td>Fifteen years after the Second Impact, apathet...</td>\n",
       "      <td>Action</td>\n",
       "    </tr>\n",
       "    <tr>\n",
       "      <th>1698</th>\n",
       "      <td>s2708</td>\n",
       "      <td>Movie</td>\n",
       "      <td>Hero</td>\n",
       "      <td>Corey Yuen</td>\n",
       "      <td>Takeshi Kaneshiro, Yuen Biao, Valerie Chow, Je...</td>\n",
       "      <td>Hong Kong</td>\n",
       "      <td>August 1, 2018</td>\n",
       "      <td>1997</td>\n",
       "      <td>89</td>\n",
       "      <td>A pugilist from Shantung struggles to rise to ...</td>\n",
       "      <td>Action</td>\n",
       "    </tr>\n",
       "    <tr>\n",
       "      <th>2328</th>\n",
       "      <td>s3718</td>\n",
       "      <td>Movie</td>\n",
       "      <td>Look Out, Officer</td>\n",
       "      <td>Sze Yu Lau</td>\n",
       "      <td>Stephen Chow, Bill Tung, Stanley Sui-Fan Fung,...</td>\n",
       "      <td>Hong Kong</td>\n",
       "      <td>August 16, 2018</td>\n",
       "      <td>1990</td>\n",
       "      <td>88</td>\n",
       "      <td>An officer killed on the job returns to Earth ...</td>\n",
       "      <td>Action</td>\n",
       "    </tr>\n",
       "    <tr>\n",
       "      <th>2993</th>\n",
       "      <td>s4787</td>\n",
       "      <td>Movie</td>\n",
       "      <td>Passenger 57</td>\n",
       "      <td>Kevin Hooks</td>\n",
       "      <td>Wesley Snipes, Bruce Payne, Tom Sizemore, Alex...</td>\n",
       "      <td>United States</td>\n",
       "      <td>January 1, 2021</td>\n",
       "      <td>1992</td>\n",
       "      <td>84</td>\n",
       "      <td>Air marshal John Cutter must stop notorious te...</td>\n",
       "      <td>Action</td>\n",
       "    </tr>\n",
       "    <tr>\n",
       "      <th>3297</th>\n",
       "      <td>s5299</td>\n",
       "      <td>Movie</td>\n",
       "      <td>Rumble in the Bronx</td>\n",
       "      <td>Stanley Tong</td>\n",
       "      <td>Jackie Chan, Anita Mui, Françoise Yip, Bill Tu...</td>\n",
       "      <td>Hong Kong</td>\n",
       "      <td>November 1, 2019</td>\n",
       "      <td>1995</td>\n",
       "      <td>89</td>\n",
       "      <td>During a visit to the Bronx to help out at his...</td>\n",
       "      <td>Action</td>\n",
       "    </tr>\n",
       "    <tr>\n",
       "      <th>3806</th>\n",
       "      <td>s6114</td>\n",
       "      <td>Movie</td>\n",
       "      <td>The Bare-Footed Kid</td>\n",
       "      <td>Johnnie To</td>\n",
       "      <td>Aaron Kwok, Lung Ti, Maggie Cheung, Chien-lien...</td>\n",
       "      <td>Hong Kong</td>\n",
       "      <td>August 16, 2018</td>\n",
       "      <td>1993</td>\n",
       "      <td>83</td>\n",
       "      <td>While working at a family friend's business, a...</td>\n",
       "      <td>Action</td>\n",
       "    </tr>\n",
       "    <tr>\n",
       "      <th>3943</th>\n",
       "      <td>s6330</td>\n",
       "      <td>Movie</td>\n",
       "      <td>The End of Evangelion</td>\n",
       "      <td>Hideaki Anno, Kazuya Tsurumaki</td>\n",
       "      <td>Megumi Ogata, Kotono Mitsuishi, Megumi Hayashi...</td>\n",
       "      <td>Japan</td>\n",
       "      <td>June 21, 2019</td>\n",
       "      <td>1997</td>\n",
       "      <td>87</td>\n",
       "      <td>Seele orders an all-out attack on NERV, aiming...</td>\n",
       "      <td>Action</td>\n",
       "    </tr>\n",
       "  </tbody>\n",
       "</table>\n",
       "</div>"
      ],
      "text/plain": [
       "     show_id   type                      title  \\\n",
       "1288   s2039  Movie  EVANGELION: DEATH (TRUE)²   \n",
       "1698   s2708  Movie                       Hero   \n",
       "2328   s3718  Movie          Look Out, Officer   \n",
       "2993   s4787  Movie               Passenger 57   \n",
       "3297   s5299  Movie        Rumble in the Bronx   \n",
       "3806   s6114  Movie        The Bare-Footed Kid   \n",
       "3943   s6330  Movie      The End of Evangelion   \n",
       "\n",
       "                            director  \\\n",
       "1288                    Hideaki Anno   \n",
       "1698                      Corey Yuen   \n",
       "2328                      Sze Yu Lau   \n",
       "2993                     Kevin Hooks   \n",
       "3297                    Stanley Tong   \n",
       "3806                      Johnnie To   \n",
       "3943  Hideaki Anno, Kazuya Tsurumaki   \n",
       "\n",
       "                                                   cast        country  \\\n",
       "1288  Megumi Ogata, Kotono Mitsuishi, Megumi Hayashi...          Japan   \n",
       "1698  Takeshi Kaneshiro, Yuen Biao, Valerie Chow, Je...      Hong Kong   \n",
       "2328  Stephen Chow, Bill Tung, Stanley Sui-Fan Fung,...      Hong Kong   \n",
       "2993  Wesley Snipes, Bruce Payne, Tom Sizemore, Alex...  United States   \n",
       "3297  Jackie Chan, Anita Mui, Françoise Yip, Bill Tu...      Hong Kong   \n",
       "3806  Aaron Kwok, Lung Ti, Maggie Cheung, Chien-lien...      Hong Kong   \n",
       "3943  Megumi Ogata, Kotono Mitsuishi, Megumi Hayashi...          Japan   \n",
       "\n",
       "            date_added  release_year  duration  \\\n",
       "1288     June 21, 2019          1998        69   \n",
       "1698    August 1, 2018          1997        89   \n",
       "2328   August 16, 2018          1990        88   \n",
       "2993   January 1, 2021          1992        84   \n",
       "3297  November 1, 2019          1995        89   \n",
       "3806   August 16, 2018          1993        83   \n",
       "3943     June 21, 2019          1997        87   \n",
       "\n",
       "                                            description   genre  \n",
       "1288  Fifteen years after the Second Impact, apathet...  Action  \n",
       "1698  A pugilist from Shantung struggles to rise to ...  Action  \n",
       "2328  An officer killed on the job returns to Earth ...  Action  \n",
       "2993  Air marshal John Cutter must stop notorious te...  Action  \n",
       "3297  During a visit to the Bronx to help out at his...  Action  \n",
       "3806  While working at a family friend's business, a...  Action  \n",
       "3943  Seele orders an all-out attack on NERV, aiming...  Action  "
      ]
     },
     "execution_count": 45,
     "metadata": {},
     "output_type": "execute_result"
    }
   ],
   "source": [
    "short_movies"
   ]
  },
  {
   "cell_type": "code",
   "execution_count": 51,
   "id": "1cb9c4d6",
   "metadata": {},
   "outputs": [
    {
     "data": {
      "text/plain": [
       "114.08968406593405"
      ]
     },
     "execution_count": 51,
     "metadata": {},
     "output_type": "execute_result"
    }
   ],
   "source": [
    "duration"
   ]
  },
  {
   "cell_type": "code",
   "execution_count": null,
   "id": "a573d8e8",
   "metadata": {},
   "outputs": [],
   "source": []
  }
 ],
 "metadata": {
  "colab": {
   "name": "Welcome to DataCamp Workspaces.ipynb",
   "provenance": []
  },
  "editor": "DataLab",
  "kernelspec": {
   "display_name": "Python 3 (ipykernel)",
   "language": "python",
   "name": "python3"
  },
  "language_info": {
   "codemirror_mode": {
    "name": "ipython",
    "version": 3
   },
   "file_extension": ".py",
   "mimetype": "text/x-python",
   "name": "python",
   "nbconvert_exporter": "python",
   "pygments_lexer": "ipython3",
   "version": "3.9.7"
  }
 },
 "nbformat": 4,
 "nbformat_minor": 5
}
